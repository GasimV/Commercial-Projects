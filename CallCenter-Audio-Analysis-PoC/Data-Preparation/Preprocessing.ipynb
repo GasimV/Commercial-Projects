{
 "cells": [
  {
   "cell_type": "markdown",
   "id": "dd2da55c-a994-41e5-ba20-17ae71c75d8c",
   "metadata": {},
   "source": [
    "## Transcribing with Whisper Locally"
   ]
  },
  {
   "cell_type": "code",
   "execution_count": null,
   "id": "a496156e-f58c-48f4-96b3-5c12dfc1ecaf",
   "metadata": {},
   "outputs": [],
   "source": [
    "import os\n",
    "import csv\n",
    "from pathlib import Path\n",
    "import torch\n",
    "from stable_whisper import load_model\n",
    "\n",
    "# === SETTINGS ===\n",
    "root_dir = r\"C:\\Pasha-PoC\\Audio-Data\"\n",
    "output_csv = r\"C:\\Pasha-PoC\\transcriptions_pasha.csv\"  # ✅ Saving here\n",
    "device = \"cuda\" if torch.cuda.is_available() else \"cpu\"\n",
    "print(f\"🚀 Using device: {device}\")\n",
    "\n",
    "# === LOAD MODEL ===\n",
    "model = load_model(\"large-v3\", device=device)\n",
    "\n",
    "# === HELPER FUNCTION ===\n",
    "def transcribe_audio_files(directory):\n",
    "    results = []\n",
    "\n",
    "    # Walk through all subdirectories\n",
    "    for root, dirs, files in os.walk(directory):\n",
    "        for filename in files:\n",
    "            if filename.lower().endswith((\".wav\", \".mp3\", \".m4a\")):\n",
    "                filepath = os.path.join(root, filename)\n",
    "                print(f\"🎧 Transcribing: {filepath}\")\n",
    "\n",
    "                try:\n",
    "                    result = model.transcribe(filepath, language=\"az\")\n",
    "                    text = result.text.strip()\n",
    "\n",
    "                    if text:\n",
    "                        label = filename  # ✅ Change to `os.path.splitext(filename)[0]` for saving without extension\n",
    "                        results.append([text, label])\n",
    "                except Exception as e:\n",
    "                    print(f\"⚠️ Failed to transcribe {filename}: {e}\")\n",
    "    return results\n",
    "\n",
    "# === PROCESS ===\n",
    "transcriptions = transcribe_audio_files(root_dir)\n",
    "\n",
    "# === SAVE TO CSV ===\n",
    "if transcriptions:\n",
    "    os.makedirs(os.path.dirname(output_csv), exist_ok=True)\n",
    "\n",
    "    with open(output_csv, mode='w', newline='', encoding='utf-8') as file:\n",
    "        writer = csv.writer(file)\n",
    "        writer.writerow([\"Transcription\", \"Label\"])  # Header\n",
    "        writer.writerows(transcriptions)\n",
    "\n",
    "    print(f\"✅ Transcriptions saved to {output_csv}\")\n",
    "else:\n",
    "    print(\"❌ No transcriptions were generated.\")"
   ]
  },
  {
   "cell_type": "code",
   "execution_count": null,
   "id": "3889b9f3-f342-4461-a904-862fe18153ac",
   "metadata": {},
   "outputs": [],
   "source": [
    "import pandas as pd"
   ]
  },
  {
   "cell_type": "code",
   "execution_count": null,
   "id": "6da7056a-9126-42e5-99c4-dfdb0c0b9226",
   "metadata": {},
   "outputs": [],
   "source": [
    "df = pd.read_csv(\"transcriptions_pasha.csv\")\n",
    "display(df)"
   ]
  },
  {
   "cell_type": "code",
   "execution_count": null,
   "id": "05e11c72-5de9-4687-8c47-4a0851a7e2d8",
   "metadata": {},
   "outputs": [],
   "source": []
  }
 ],
 "metadata": {
  "kernelspec": {
   "display_name": "Python 3.12.3 (CUDA GPU)",
   "language": "python",
   "name": "cuda_gpu_env"
  },
  "language_info": {
   "codemirror_mode": {
    "name": "ipython",
    "version": 3
   },
   "file_extension": ".py",
   "mimetype": "text/x-python",
   "name": "python",
   "nbconvert_exporter": "python",
   "pygments_lexer": "ipython3",
   "version": "3.12.3"
  }
 },
 "nbformat": 4,
 "nbformat_minor": 5
}
