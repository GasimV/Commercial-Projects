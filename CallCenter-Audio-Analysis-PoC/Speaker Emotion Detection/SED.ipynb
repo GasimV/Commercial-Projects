{
 "cells": [
  {
   "cell_type": "markdown",
   "id": "36f89ff5-2e5d-4d12-bbe2-fb1a29034f05",
   "metadata": {},
   "source": [
    "## Audio Classification-based Speech Emotion Recognition (SER)"
   ]
  },
  {
   "cell_type": "markdown",
   "id": "992db318-c2d3-4061-81f1-5ce3b1572e6f",
   "metadata": {},
   "source": [
    "### ehcalabres/wav2vec2-lg-xlsr-en-speech-emotion-recognition"
   ]
  },
  {
   "cell_type": "code",
   "execution_count": null,
   "id": "338960ab-e922-4b4c-8e2e-51bca9f6bc7a",
   "metadata": {},
   "outputs": [],
   "source": [
    "# Use a pipeline as a high-level helper\n",
    "from transformers import pipeline\n",
    "import os # Import the os module to check for file existence\n",
    "\n",
    "# 1. Define the path to your audio file\n",
    "# The r\"...\" syntax (raw string) is great for Windows paths to avoid issues with backslashes.\n",
    "audio_file_path = r\"C:\\...\\.wav\"\n",
    "\n",
    "# --- Optional but Recommended: Check if the file exists before proceeding ---\n",
    "if not os.path.exists(audio_file_path):\n",
    "    print(f\"Error: The file was not found at the path: {audio_file_path}\")\n",
    "    # You might want to exit the script if the file doesn't exist\n",
    "    exit()\n",
    "\n",
    "# 2. Initialize the pipeline\n",
    "# This will download the model the first time you run it, which may take a few minutes.\n",
    "print(\"Loading the audio classification pipeline... (This might take a while on the first run)\")\n",
    "pipe = pipeline(\"audio-classification\", model=\"ehcalabres/wav2vec2-lg-xlsr-en-speech-emotion-recognition\")\n",
    "print(\"Pipeline loaded successfully.\")\n",
    "\n",
    "# 3. Perform the inference by passing the file path to the pipeline\n",
    "print(f\"Analyzing audio file: {audio_file_path}\")\n",
    "results = pipe(audio_file_path)\n",
    "\n",
    "# 4. Print the results\n",
    "# The output is a list of dictionaries, each with a label (the emotion) and a score (the confidence).\n",
    "print(\"\\n--- Inference Result (Top Emotion) ---\")\n",
    "print(results)\n",
    "\n",
    "# To get all possible emotion scores, you can use the top_k parameter\n",
    "print(\"\\n--- All Emotion Scores ---\")\n",
    "all_scores = pipe(audio_file_path, top_k=8) # This model has 8 labels\n",
    "for emotion in all_scores:\n",
    "    # Round the score to 4 decimal places for cleaner output\n",
    "    print(f\"Emotion: {emotion['label']:<10} | Score: {emotion['score']:.4f}\")"
   ]
  },
  {
   "cell_type": "markdown",
   "id": "60c13387-517f-4dd0-a2dd-5e7aec043eeb",
   "metadata": {},
   "source": [
    "Analyzing audio file: `C:\\...\\.wav`\n",
    "\n",
    "---\n",
    "\n",
    "### **All Emotion Scores**\n",
    "\n",
    "* **Emotion: happy**      | **Score:** `0.1377`\n",
    "* **Emotion: fearful**    | **Score:** `0.1322`\n",
    "* **Emotion: surprised**  | **Score:** `0.1286`\n",
    "* **Emotion: sad**        | **Score:** `0.1271`\n",
    "* **Emotion: neutral**    | **Score:** `0.1238`\n",
    "* **Emotion: disgust**    | **Score:** `0.1216`\n",
    "* **Emotion: calm**       | **Score:** `0.1159`\n",
    "* **Emotion: angry**      | **Score:** `0.1130`"
   ]
  },
  {
   "cell_type": "markdown",
   "id": "037f0a79-52e5-428b-bb33-3b6614711806",
   "metadata": {},
   "source": [
    "### ```superb/wav2vec2-large-superb-er``` (1.26G)"
   ]
  },
  {
   "cell_type": "code",
   "execution_count": null,
   "id": "9d991d41-d6bd-4624-8088-668437f8de41",
   "metadata": {},
   "outputs": [],
   "source": [
    "# Use a pipeline as a high-level helper\n",
    "from transformers import pipeline\n",
    "import os\n",
    "\n",
    "# 1. Define the path to your audio file\n",
    "audio_file_path = r\"C:\\...\\.wav\"\n",
    "\n",
    "# --- Optional but Recommended: Check if the file exists ---\n",
    "if not os.path.exists(audio_file_path):\n",
    "    print(f\"Error: The file was not found at the path: {audio_file_path}\")\n",
    "    exit()\n",
    "\n",
    "# 2. Initialize the pipeline with the NEW model\n",
    "# Note: The only change is the model name here.\n",
    "print(\"Loading the audio classification pipeline (superb/wav2vec2-large-superb-er)...\")\n",
    "pipe = pipeline(\"audio-classification\", model=\"superb/wav2vec2-large-superb-er\")\n",
    "print(\"Pipeline loaded successfully.\")\n",
    "\n",
    "# 3. Perform the inference by passing the file path to the pipeline\n",
    "print(f\"Analyzing audio file: {audio_file_path}\")\n",
    "results = pipe(audio_file_path)\n",
    "\n",
    "# 4. Print the results\n",
    "print(\"\\n--- Inference Result (Top Emotion) ---\")\n",
    "print(results)\n",
    "\n",
    "# To get all possible emotion scores for THIS model, we use top_k=4\n",
    "print(\"\\n--- All Emotion Scores ---\")\n",
    "all_scores = pipe(audio_file_path, top_k=4) # This model has 4 labels\n",
    "for emotion in all_scores:\n",
    "    print(f\"Emotion: {emotion['label']:<5} | Score: {emotion['score']:.4f}\")"
   ]
  },
  {
   "cell_type": "markdown",
   "id": "4844451f-e7bc-4a77-b409-4cfb7e1237dd",
   "metadata": {},
   "source": [
    "Analyzing audio file: `C:\\...\\.wav`\n",
    "\n",
    "---\n",
    "\n",
    "### **All Emotion Scores**\n",
    "\n",
    "* **Emotion: hap**   | **Score:** `0.8158`\n",
    "* **Emotion: neu**   | **Score:** `0.1796`\n",
    "* **Emotion: sad**   | **Score:** `0.0043`\n",
    "* **Emotion: ang**   | **Score:** `0.0004`"
   ]
  },
  {
   "cell_type": "markdown",
   "id": "328d61ed-5694-4516-8637-f6ea34b18d87",
   "metadata": {},
   "source": [
    "### superb/hubert-base-superb-er (378M)"
   ]
  },
  {
   "cell_type": "code",
   "execution_count": null,
   "id": "1ae18d0c-6888-403b-8269-4caa508f6491",
   "metadata": {},
   "outputs": [],
   "source": [
    "# Use a pipeline as a high-level helper\n",
    "from transformers import pipeline\n",
    "import os\n",
    "\n",
    "# 1. Define the path to your audio file\n",
    "audio_file_path = r\"C:\\...\\.wav\"\n",
    "\n",
    "# --- Optional but Recommended: Check if the file exists ---\n",
    "if not os.path.exists(audio_file_path):\n",
    "    print(f\"Error: The file was not found at the path: {audio_file_path}\")\n",
    "    exit()\n",
    "\n",
    "# 2. Initialize the pipeline with the NEW model\n",
    "# Note: The only change is the model name here.\n",
    "print(\"Loading the audio classification pipeline (superb/wav2vec2-large-superb-er)...\")\n",
    "pipe = pipeline(\"audio-classification\", model=\"superb/hubert-base-superb-er\")\n",
    "print(\"Pipeline loaded successfully.\")\n",
    "\n",
    "# 3. Perform the inference by passing the file path to the pipeline\n",
    "print(f\"Analyzing audio file: {audio_file_path}\")\n",
    "results = pipe(audio_file_path)\n",
    "\n",
    "# 4. Print the results\n",
    "print(\"\\n--- Inference Result (Top Emotion) ---\")\n",
    "print(results)\n",
    "\n",
    "# To get all possible emotion scores for THIS model, we use top_k=4\n",
    "print(\"\\n--- All Emotion Scores ---\")\n",
    "all_scores = pipe(audio_file_path, top_k=4) # This model has 4 labels\n",
    "for emotion in all_scores:\n",
    "    print(f\"Emotion: {emotion['label']:<5} | Score: {emotion['score']:.4f}\")"
   ]
  },
  {
   "cell_type": "markdown",
   "id": "2224721b-fd12-4a6a-b8d6-55db1cb1ea1a",
   "metadata": {},
   "source": [
    "Analyzing audio file: `C:\\...\\.wav`\n",
    "\n",
    "---\n",
    "\n",
    "### **All Emotion Scores**\n",
    "\n",
    "* **Emotion: hap**   | **Score:** `0.6047`\n",
    "* **Emotion: sad**   | **Score:** `0.1896`\n",
    "* **Emotion: neu**   | **Score:** `0.1819`\n",
    "* **Emotion: ang**   | **Score:** `0.0238`\n",
    "\n",
    "**Inference performance poorer than ```superb/wav2vec2-large-superb-er```!**"
   ]
  },
  {
   "cell_type": "code",
   "execution_count": null,
   "id": "212dc3cb-8cd3-44d2-9c5e-0eb6cfb1c510",
   "metadata": {},
   "outputs": [],
   "source": []
  }
 ],
 "metadata": {
  "kernelspec": {
   "display_name": "Python 3 (ipykernel)",
   "language": "python",
   "name": "python3"
  },
  "language_info": {
   "codemirror_mode": {
    "name": "ipython",
    "version": 3
   },
   "file_extension": ".py",
   "mimetype": "text/x-python",
   "name": "python",
   "nbconvert_exporter": "python",
   "pygments_lexer": "ipython3",
   "version": "3.12.3"
  }
 },
 "nbformat": 4,
 "nbformat_minor": 5
}
