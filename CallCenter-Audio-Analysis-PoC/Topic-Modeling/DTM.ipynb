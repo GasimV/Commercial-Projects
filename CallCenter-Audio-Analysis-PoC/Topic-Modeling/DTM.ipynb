{
 "cells": [
  {
   "cell_type": "markdown",
   "id": "a7fca666-20c0-41f3-9cff-486caedad089",
   "metadata": {},
   "source": [
    "## Zero-Shot Classification Pipeline\n",
    "\n",
    "Model Name:  \n",
    "`MoritzLaurer/mDeBERTa-v3-base-mnli-xnli`  \n",
    "[View on Hugging Face](https://huggingface.co/MoritzLaurer/mDeBERTa-v3-base-mnli-xnli)"
   ]
  },
  {
   "cell_type": "code",
   "execution_count": null,
   "id": "96575069-e057-4177-8e82-e631526c2e9e",
   "metadata": {},
   "outputs": [],
   "source": [
    "from transformers import pipeline\n",
    "\n",
    "classifier = pipeline(\"zero-shot-classification\", model=\"MoritzLaurer/mDeBERTa-v3-base-mnli-xnli\")\n",
    "\n",
    "sequence_to_classify = \"POS-terminal üçün sifariş verdim, amma hələ də çatdırılmayıb. Müştərilərlə hesablaşma problemi yaşayıram.\"\n",
    "candidate_labels = [\n",
    "    \"POS-terminal sifarişlərinin gec icra edilməsi ilə bağlı şikayət sorğuları\",\n",
    "    \"Tərəfdaş kredit xətti - Pasha Business mobil tətbiqində yaranan texniki çətinlik (ödəniş xətası, kredit xətti əks olunmur)\",\n",
    "    \"Tərəfdaş kredit xətti - Pasha Business mobil tətbiqində kreditə müraciət edilməsi ilə bağlı təlimat\",\n",
    "    \"Tərəfdaş kredit xətti - Pasha Business mobil tətbiqində kredit üzrə qabaqcadan ödəniş ilə bağlı təlimat\",\n",
    "    \"Tərəfdaş kredit xətti - Pasha Business mobil tətbiqində kreditə xitam verilməsi ilə bağlı təlimat\"\n",
    "]\n",
    "\n",
    "output = classifier(sequence_to_classify, candidate_labels, multi_label=True)\n",
    "#print(output)\n",
    "\n",
    "# 📊 Print a more readable summary\n",
    "print(f\"📝 Input Text:\\n{output['sequence']}\\n\")\n",
    "print(\"🔍 Classification Results:\")\n",
    "for label, score in zip(output['labels'], output['scores']):\n",
    "    print(f\"- {label}: {score:.2%}\")"
   ]
  },
  {
   "cell_type": "markdown",
   "id": "d1b7a9fb-09c5-4d24-999b-67801b34468c",
   "metadata": {},
   "source": [
    "---\n",
    "**`multi_label` Flag**\n",
    "\n",
    "* The `multi_label=False` parameter affects how softmax scores are normalized.\n",
    "\n",
    "  * `multi_label=False` uses **softmax** across all classes (forcing scores to sum to 1).\n",
    "  * `multi_label=True` uses **sigmoid** on each class independently (scores don’t sum to 1).\n",
    "\n",
    "If the flag is set to `multi_label=True`, it will yield **higher scores for multiple labels** (e.g., several labels getting scores near or above 0.5), while the code with `multi_label=False` ***assumes only one label is correct*** and will **emphasize only the top one**.\n",
    "\n",
    "---"
   ]
  },
  {
   "cell_type": "code",
   "execution_count": null,
   "id": "bc6cb2d9-696e-4ac5-9421-43541f56d7b4",
   "metadata": {},
   "outputs": [],
   "source": [
    "from transformers import pipeline\n",
    "\n",
    "classifier = pipeline(\n",
    "    \"zero-shot-classification\", \n",
    "    model=\"MoritzLaurer/mDeBERTa-v3-base-mnli-xnli\",\n",
    "    device=0  # 0 = first GPU; use -1 for CPU\n",
    ")\n",
    "\n",
    "sequence_to_classify = \"POS-terminal üçün sifariş verdim, amma hələ də çatdırılmayıb. Müştərilərlə hesablaşma problemi yaşayıram.\"\n",
    "candidate_labels = [\n",
    "    \"POS-terminal sifarişlərinin gec icra edilməsi ilə bağlı şikayət sorğuları\",\n",
    "    \"Tərəfdaş kredit xətti - Pasha Business mobil tətbiqində yaranan texniki çətinlik (ödəniş xətası, kredit xətti əks olunmur)\",\n",
    "    \"Tərəfdaş kredit xətti - Pasha Business mobil tətbiqində kreditə müraciət edilməsi ilə bağlı təlimat\",\n",
    "    \"Tərəfdaş kredit xətti - Pasha Business mobil tətbiqində kredit üzrə qabaqcadan ödəniş ilə bağlı təlimat\",\n",
    "    \"Tərəfdaş kredit xətti - Pasha Business mobil tətbiqində kreditə xitam verilməsi ilə bağlı təlimat\"\n",
    "]\n",
    "\n",
    "output = classifier(sequence_to_classify, candidate_labels, multi_label=False)\n",
    "#print(output)\n",
    "\n",
    "# 📊 Print a more readable summary\n",
    "print(f\"📝 Input Text:\\n{output['sequence']}\\n\")\n",
    "print(\"🔍 Classification Results:\")\n",
    "for label, score in zip(output['labels'], output['scores']):\n",
    "    print(f\"- {label}: {score:.2%}\")"
   ]
  },
  {
   "cell_type": "code",
   "execution_count": null,
   "id": "d63e91cc-7e12-48a8-8e07-b803e6ea8e90",
   "metadata": {},
   "outputs": [],
   "source": []
  }
 ],
 "metadata": {
  "kernelspec": {
   "display_name": "Python 3.12.3 (CUDA GPU)",
   "language": "python",
   "name": "cuda_gpu_env"
  },
  "language_info": {
   "codemirror_mode": {
    "name": "ipython",
    "version": 3
   },
   "file_extension": ".py",
   "mimetype": "text/x-python",
   "name": "python",
   "nbconvert_exporter": "python",
   "pygments_lexer": "ipython3",
   "version": "3.12.3"
  }
 },
 "nbformat": 4,
 "nbformat_minor": 5
}
